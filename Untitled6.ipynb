{
 "cells": [
  {
   "cell_type": "code",
   "execution_count": 117,
   "metadata": {},
   "outputs": [
    {
     "name": "stdout",
     "output_type": "stream",
     "text": [
      "E,22\n",
      "A,14\n",
      "B,14\n",
      "A,22\n",
      "C,18\n",
      "A,14\n",
      "A,23\n",
      "B,6\n",
      "E,31\n",
      "B,30\n",
      "C,13\n",
      "C,22\n",
      "D,24\n",
      "E,14\n",
      "B,18\n",
      "D,18\n",
      "E,29\n",
      "D,18\n",
      "E,16\n",
      "E,13\n",
      "E,15\n",
      "E,20\n",
      "D,12\n",
      "A,20\n",
      "E,31\n",
      "E,21\n",
      "A,9\n",
      "E,25\n",
      "A,21\n",
      "C,20\n",
      "A,23\n",
      "D,32\n",
      "E,11\n",
      "B,24\n",
      "B,24\n",
      "D,8\n",
      "B,18\n",
      "C,8\n",
      "E,11\n",
      "E,16\n"
     ]
    }
   ],
   "source": [
    "x = open('data.csv','r').readlines() #Leo el archivo\n",
    "x = [z.replace('\\n', '') for z in x] #Reemplazo retornos de carro por vacíos\n",
    "x = [z.split('\\t') for z in x] #Se separan donde esté una separación\n",
    "a = list([(z[4]) for z in x[0:]])\n",
    "k = str(a)\n",
    "g = list([(z[0]) for z in x[0:]])\n",
    "import re \n",
    "cadena = re.sub(\"\\D\", \"\", k)\n",
    "b = list(cadena)\n",
    "e = [int(z[0]) for z in b[0:]]\n",
    "h = [z.split(',') for z in a]\n",
    "lena = len(a)\n",
    "cont=0\n",
    "for i in range(0,lena):\n",
    "    if i == 0:\n",
    "        sum=0\n",
    "        u = (len(h[i]))\n",
    "        for j in range(cont,u):\n",
    "            sum = sum + e[j]\n",
    "            cont=u\n",
    "    elif i == 1:\n",
    "        sum=0\n",
    "        u = (len(h[i]))\n",
    "        s = cont + 1\n",
    "        r = s + u\n",
    "        for j in range(s,r):\n",
    "            sum = sum + e[j]\n",
    "    elif i > 1:\n",
    "        sum=0\n",
    "        s = s + u\n",
    "        u = (len(h[i]))\n",
    "        r = s + u\n",
    "        for j in range(s,r):\n",
    "            sum = sum + e[j-1]\n",
    "    print(g[i], end=\"\")\n",
    "    print(',', end=\"\")\n",
    "    print(sum)"
   ]
  },
  {
   "cell_type": "code",
   "execution_count": 92,
   "metadata": {},
   "outputs": [
    {
     "data": {
      "text/plain": [
       "6"
      ]
     },
     "execution_count": 92,
     "metadata": {},
     "output_type": "execute_result"
    }
   ],
   "source": [
    "e[11]"
   ]
  },
  {
   "cell_type": "code",
   "execution_count": 105,
   "metadata": {},
   "outputs": [
    {
     "name": "stdout",
     "output_type": "stream",
     "text": [
      "E,22\n",
      "A,14\n",
      "B,14\n",
      "A,14\n",
      "C,14\n",
      "A,14\n",
      "A,14\n",
      "B,14\n",
      "E,14\n",
      "B,14\n",
      "C,14\n",
      "C,14\n",
      "D,14\n",
      "E,14\n",
      "B,14\n",
      "D,14\n",
      "E,14\n",
      "D,14\n",
      "E,14\n",
      "E,14\n",
      "E,14\n",
      "E,14\n",
      "D,14\n",
      "A,14\n",
      "E,14\n",
      "E,14\n",
      "A,14\n",
      "E,14\n",
      "A,14\n",
      "C,14\n",
      "A,14\n",
      "D,14\n",
      "E,14\n",
      "B,14\n",
      "B,14\n",
      "D,14\n",
      "B,14\n",
      "C,14\n",
      "E,14\n",
      "E,14\n"
     ]
    }
   ],
   "source": [
    "x = open('data.csv','r').readlines() #Leo el archivo\n",
    "x = [z.replace('\\n', '') for z in x] #Reemplazo retornos de carro por vacíos\n",
    "x = [z.split('\\t') for z in x] #Se separan donde esté una separación\n",
    "a = list([(z[4]) for z in x[0:]])\n",
    "k = str(a)\n",
    "g = list([(z[0]) for z in x[0:]])\n",
    "import re \n",
    "cadena = re.sub(\"\\D\", \"\", k)\n",
    "b = list(cadena)\n",
    "e = [int(z[0]) for z in b[0:]]\n",
    "h = [z.split(',') for z in a]\n",
    "lena = len(a)\n",
    "cont=0\n",
    "for i in range(0,lena):\n",
    "    if i == 0:\n",
    "        sum=0\n",
    "        u = (len(h[i]))\n",
    "        for j in range(cont,u):\n",
    "            sum = sum + e[j]\n",
    "            cont=u\n",
    "    elif i == 1:\n",
    "        sum=0\n",
    "        u = (len(h[i]))\n",
    "        s = cont + 1\n",
    "        r = s + u\n",
    "        for j in range(s,r):\n",
    "            sum = sum + e[j]\n",
    "    print(g[i], end=\"\")\n",
    "    print(',', end=\"\")\n",
    "    print(sum)"
   ]
  },
  {
   "cell_type": "code",
   "execution_count": 110,
   "metadata": {},
   "outputs": [
    {
     "data": {
      "text/plain": [
       "4"
      ]
     },
     "execution_count": 110,
     "metadata": {},
     "output_type": "execute_result"
    }
   ],
   "source": [
    "len(h[2])"
   ]
  },
  {
   "cell_type": "code",
   "execution_count": null,
   "metadata": {},
   "outputs": [],
   "source": []
  }
 ],
 "metadata": {
  "kernelspec": {
   "display_name": "Python 3",
   "language": "python",
   "name": "python3"
  },
  "language_info": {
   "codemirror_mode": {
    "name": "ipython",
    "version": 3
   },
   "file_extension": ".py",
   "mimetype": "text/x-python",
   "name": "python",
   "nbconvert_exporter": "python",
   "pygments_lexer": "ipython3",
   "version": "3.6.7"
  }
 },
 "nbformat": 4,
 "nbformat_minor": 2
}
