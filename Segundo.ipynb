{
 "cells": [
  {
   "cell_type": "code",
   "execution_count": 180,
   "metadata": {},
   "outputs": [],
   "source": [
    "x = open('data.csv','r').readlines() #Leo el archivo\n",
    "x = [z.replace('\\n', '') for z in x] #Reemplazo retornos de carro por vacíos\n",
    "x = [z.split('\\t') for z in x] #Se separan donde esté una separación"
   ]
  },
  {
   "cell_type": "code",
   "execution_count": 178,
   "metadata": {},
   "outputs": [
    {
     "data": {
      "text/plain": [
       "['jjj:3',\n",
       " 'bbb:0',\n",
       " 'ddd:9',\n",
       " 'ggg:8',\n",
       " 'hhh:2',\n",
       " 'ccc:2',\n",
       " 'ddd:0',\n",
       " 'aaa:3',\n",
       " 'hhh:9',\n",
       " 'ddd:2',\n",
       " 'ggg:5',\n",
       " 'ccc:6',\n",
       " 'jjj:1',\n",
       " 'hhh:9',\n",
       " 'iii:5',\n",
       " 'eee:7',\n",
       " 'bbb:1',\n",
       " 'iii:6',\n",
       " 'ddd:5',\n",
       " 'eee:4',\n",
       " 'jjj:3',\n",
       " 'bbb:2',\n",
       " 'hhh:0',\n",
       " 'ccc:4',\n",
       " 'fff:1',\n",
       " 'aaa:7',\n",
       " 'aaa:5',\n",
       " 'fff:8',\n",
       " 'ddd:2',\n",
       " 'iii:0',\n",
       " 'jjj:7',\n",
       " 'ccc:1',\n",
       " 'fff:3',\n",
       " 'hhh:1',\n",
       " 'ddd:2',\n",
       " 'eee:4',\n",
       " 'ccc:5',\n",
       " 'iii:9',\n",
       " 'fff:7',\n",
       " 'ggg:6',\n",
       " 'bbb:0',\n",
       " 'bbb:7',\n",
       " 'jjj:9',\n",
       " 'fff:5',\n",
       " 'iii:4',\n",
       " 'ggg:2',\n",
       " 'eee:3',\n",
       " 'hhh:6',\n",
       " 'eee:4',\n",
       " 'iii:0',\n",
       " 'fff:2',\n",
       " 'jjj:1',\n",
       " 'bbb:7',\n",
       " 'iii:6',\n",
       " 'ggg:9',\n",
       " 'bbb:9',\n",
       " 'aaa:3',\n",
       " 'ccc:6',\n",
       " 'fff:4',\n",
       " 'eee:2',\n",
       " 'aaa:8',\n",
       " 'ddd:5',\n",
       " 'jjj:1',\n",
       " 'ccc:0',\n",
       " 'jjj:6',\n",
       " 'fff:7',\n",
       " 'ddd:3',\n",
       " 'aaa:2',\n",
       " 'ccc:0',\n",
       " 'eee:6',\n",
       " 'bbb:9',\n",
       " 'ddd:3',\n",
       " 'bbb:6',\n",
       " 'iii:3',\n",
       " 'hhh:5',\n",
       " 'fff:4',\n",
       " 'ggg:9',\n",
       " 'ddd:2',\n",
       " 'hhh:4',\n",
       " 'jjj:5',\n",
       " 'ccc:9',\n",
       " 'ccc:1',\n",
       " 'iii:6',\n",
       " 'fff:9',\n",
       " 'bbb:9',\n",
       " 'aaa:3',\n",
       " 'fff:1',\n",
       " 'ddd:9',\n",
       " 'iii:2',\n",
       " 'aaa:4',\n",
       " 'ccc:5',\n",
       " 'fff:8',\n",
       " 'iii:7',\n",
       " 'eee:3',\n",
       " 'jjj:2',\n",
       " 'ddd:7',\n",
       " 'jjj:1',\n",
       " 'ggg:0',\n",
       " 'ccc:7',\n",
       " 'ddd:9',\n",
       " 'bbb:3',\n",
       " 'jjj:6',\n",
       " 'ccc:0',\n",
       " 'aaa:1',\n",
       " 'hhh:9',\n",
       " 'iii:7',\n",
       " 'ggg:8',\n",
       " 'fff:3',\n",
       " 'eee:6',\n",
       " 'iii:4',\n",
       " 'bbb:7',\n",
       " 'ddd:0',\n",
       " 'ccc:1',\n",
       " 'fff:0',\n",
       " 'ddd:5',\n",
       " 'ccc:4',\n",
       " 'ggg:6',\n",
       " 'hhh:3',\n",
       " 'ddd:9',\n",
       " 'ccc:0',\n",
       " 'jjj:7',\n",
       " 'hhh:6',\n",
       " 'jjj:0',\n",
       " 'eee:5',\n",
       " 'iii:7',\n",
       " 'ccc:3',\n",
       " 'eee:1',\n",
       " 'fff:4',\n",
       " 'aaa:2',\n",
       " 'ccc:7',\n",
       " 'ggg:0',\n",
       " 'ddd:6',\n",
       " 'ccc:6',\n",
       " 'aaa:9',\n",
       " 'eee:5',\n",
       " 'ddd:0',\n",
       " 'bbb:3',\n",
       " 'bbb:7',\n",
       " 'hhh:1',\n",
       " 'aaa:6',\n",
       " 'iii:4',\n",
       " 'fff:9',\n",
       " 'ddd:5',\n",
       " 'fff:3',\n",
       " 'ccc:1',\n",
       " 'ggg:2',\n",
       " 'eee:5',\n",
       " 'iii:7',\n",
       " 'ggg:3',\n",
       " 'ddd:0',\n",
       " 'jjj:8',\n",
       " 'hhh:5',\n",
       " 'ccc:1',\n",
       " 'hhh:6',\n",
       " 'ccc:3',\n",
       " 'jjj:0',\n",
       " 'bbb:8',\n",
       " 'ddd:7',\n",
       " 'aaa:0',\n",
       " 'fff:5',\n",
       " 'ddd:3',\n",
       " 'ddd:5',\n",
       " 'jjj:2',\n",
       " 'iii:7',\n",
       " 'ccc:0',\n",
       " 'bbb:4',\n",
       " 'eee:0',\n",
       " 'fff:2',\n",
       " 'hhh:6',\n",
       " 'fff:9',\n",
       " 'iii:2',\n",
       " 'eee:0',\n",
       " 'hhh:8',\n",
       " 'ggg:3',\n",
       " 'jjj:5']"
      ]
     },
     "execution_count": 178,
     "metadata": {},
     "output_type": "execute_result"
    }
   ],
   "source": [
    "b = list([(z[4]) for z in x[0:]])\n",
    "j"
   ]
  },
  {
   "cell_type": "code",
   "execution_count": 175,
   "metadata": {},
   "outputs": [
    {
     "data": {
      "text/plain": [
       "{'aaa', 'bbb', 'ccc', 'ddd', 'eee', 'fff', 'ggg', 'hhh', 'iii', 'jjj'}"
      ]
     },
     "execution_count": 175,
     "metadata": {},
     "output_type": "execute_result"
    }
   ],
   "source": [
    "h = \",\".join(b)\n",
    "j = h.split(',')\n",
    "j\n",
    "k = list([(z[0:3]) for z in j[0:]])\n",
    "l = list([(z[4]) for z in j[0:]])\n",
    "m = set(k)\n",
    "m"
   ]
  },
  {
   "cell_type": "code",
   "execution_count": 181,
   "metadata": {},
   "outputs": [
    {
     "name": "stdout",
     "output_type": "stream",
     "text": [
      "aaa:0,fff:5,ddd:3,7,1\n",
      "aaa:5,fff:8,ddd:2,iii:0,jjj:7,ccc:1,9,2\n",
      "aaa:8,ddd:5,jjj:1,8,5\n",
      "bbb:2,hhh:0,ccc:4,fff:1,aaa:7,7,3\n",
      "bbb:6,iii:3,hhh:5,fff:4,ggg:9,ddd:2,6,3\n",
      "bbb:7,hhh:1,aaa:6,iii:4,fff:9,ddd:5,7,2\n",
      "bbb:7,iii:6,ggg:9,9,5\n",
      "bbb:7,jjj:9,fff:5,iii:4,ggg:2,eee:3,3,1\n",
      "bbb:9,aaa:3,ccc:6,fff:4,eee:2,3,2\n",
      "bbb:9,aaa:3,fff:1,9,3\n",
      "ccc:0,eee:6,bbb:9,ddd:3,7,1\n",
      "ccc:0,jjj:6,fff:7,ddd:3,aaa:2,9,5\n",
      "ccc:1,iii:6,fff:9,8,3\n",
      "ccc:2,ddd:0,aaa:3,hhh:9,8,2\n",
      "ccc:5,fff:8,iii:7,9,3\n",
      "ccc:6,aaa:9,eee:5,ddd:0,bbb:3,1,1\n",
      "ddd:2,ggg:5,ccc:6,jjj:1,5,3\n",
      "ddd:5,jjj:2,iii:7,ccc:0,bbb:4,8,5\n",
      "ddd:9,iii:2,aaa:4,8,7\n",
      "eee:0,fff:2,hhh:6,9,9\n",
      "eee:1,fff:4,aaa:2,ccc:7,ggg:0,ddd:6,7,0\n",
      "eee:3,jjj:2,ddd:7,5,3\n",
      "eee:4,ccc:5,iii:9,fff:7,ggg:6,bbb:0,5,2\n",
      "fff:0,ddd:5,ccc:4,8,1\n",
      "fff:3,ccc:1,ggg:2,eee:5,5,4\n",
      "fff:3,eee:6,iii:4,bbb:7,ddd:0,ccc:1,6,6\n",
      "fff:3,hhh:1,ddd:2,8,1\n",
      "fff:9,iii:2,eee:0,5,1\n",
      "ggg:6,hhh:3,ddd:9,ccc:0,jjj:7,6,5\n",
      "hhh:4,jjj:5,ccc:9,5,0\n",
      "hhh:6,ccc:3,jjj:0,bbb:8,ddd:7,6,1\n",
      "hhh:6,eee:4,iii:0,fff:2,jjj:1,7,2\n",
      "hhh:6,jjj:0,eee:5,iii:7,ccc:3,6,5\n",
      "hhh:8,ggg:3,jjj:5,5,4\n",
      "hhh:9,iii:5,eee:7,bbb:1,6,3\n",
      "iii:6,ddd:5,eee:4,jjj:3,7,6\n",
      "iii:7,ggg:3,ddd:0,jjj:8,hhh:5,ccc:1,8,4\n",
      "jjj:1,ggg:0,ccc:7,ddd:9,bbb:3,9,1\n",
      "jjj:3,bbb:0,ddd:9,ggg:8,hhh:2,1,1\n",
      "jjj:6,ccc:0,aaa:1,hhh:9,iii:7,ggg:8,5,4\n"
     ]
    }
   ],
   "source": [
    "x = open('data.csv','r').readlines() #Se lee el archivo\n",
    "x = [z.replace('\\n', '') for z in x]\n",
    "x = [z.split('\\t') for z in x]\n",
    "b = [(z[4]) for z in x[0:]]\n",
    "e=[int(z[1]) for z in x[0:]]\n",
    "c = set(b)\n",
    "d = list(c)\n",
    "d.sort()\n",
    "lenb = len(b)\n",
    "lend = len(d)\n",
    "for i in range(0,lend):\n",
    "    max=e[i]\n",
    "    min=e[i]\n",
    "    for j in range(0,lenb):\n",
    "        if b[j] == d[i]:\n",
    "            if e[j] > max:\n",
    "                max= e[j]\n",
    "    for j in range(0,lenb):\n",
    "        if b[j] == d[i]:\n",
    "            if e[j] < min:\n",
    "                min= e[j]\n",
    "                               \n",
    "    print(d[i], end=\"\")\n",
    "    print(',', end=\"\")\n",
    "    print(max, end=\"\")\n",
    "    print(',', end=\"\")\n",
    "    print(min)"
   ]
  },
  {
   "cell_type": "code",
   "execution_count": 122,
   "metadata": {},
   "outputs": [
    {
     "name": "stdout",
     "output_type": "stream",
     "text": [
      "A,3\n",
      "B,3\n",
      "C,3\n",
      "D,3\n",
      "E,3\n"
     ]
    }
   ],
   "source": [
    "b = [(z[4]) for z in x[0:]]\n",
    "c = set(b)\n",
    "d = list(c)\n",
    "d.sort()\n",
    "e=[int(z[1]) for z in x[0:]]\n",
    "lenb = len(b)\n",
    "lend = len(d)\n",
    "for i in range(0,lend):\n",
    "    max=e[i]\n",
    "    min=e[i]\n",
    "    for j in range(0,lenb): \n",
    "        if b[j] == d[i] and e[j] > max:\n",
    "                max = e[j]\n",
    "    print(d[i], end=\"\")\n",
    "    print(',', end=\"\")\n",
    "    print(n)"
   ]
  },
  {
   "cell_type": "code",
   "execution_count": 110,
   "metadata": {},
   "outputs": [
    {
     "data": {
      "text/plain": [
       "['10', '05', '09', '01', '06', '02', '12', '11', '03', '08', '04', '07']"
      ]
     },
     "execution_count": 110,
     "metadata": {},
     "output_type": "execute_result"
    }
   ],
   "source": [
    "a=list(set([z[2].split('-')[1] for z in x[0:]]))\n",
    "a"
   ]
  },
  {
   "cell_type": "code",
   "execution_count": 111,
   "metadata": {},
   "outputs": [
    {
     "data": {
      "text/plain": [
       "['01', '02', '03', '04', '05', '06', '07', '08', '09', '10', '11', '12']"
      ]
     },
     "execution_count": 111,
     "metadata": {},
     "output_type": "execute_result"
    }
   ],
   "source": [
    "a.sort()\n",
    "a"
   ]
  },
  {
   "cell_type": "code",
   "execution_count": 115,
   "metadata": {},
   "outputs": [
    {
     "name": "stdout",
     "output_type": "stream",
     "text": [
      "01,3\n",
      "02,4\n",
      "03,2\n",
      "04,4\n",
      "05,3\n",
      "06,3\n",
      "07,5\n",
      "08,6\n",
      "09,3\n",
      "10,2\n",
      "11,2\n",
      "12,3\n"
     ]
    }
   ],
   "source": [
    "lenb = len(b)\n",
    "lena = len(a)\n",
    "for i in range(0,lena):\n",
    "    n=0\n",
    "    for j in range(0,lenb):\n",
    "        if b[j] == a[i]:\n",
    "            n = n + 1\n",
    "    print(a[i], end=\"\")\n",
    "    print(',', end=\"\")\n",
    "    print(n)"
   ]
  },
  {
   "cell_type": "code",
   "execution_count": null,
   "metadata": {},
   "outputs": [],
   "source": []
  },
  {
   "cell_type": "code",
   "execution_count": null,
   "metadata": {},
   "outputs": [],
   "source": []
  }
 ],
 "metadata": {
  "kernelspec": {
   "display_name": "Python 3",
   "language": "python",
   "name": "python3"
  },
  "language_info": {
   "codemirror_mode": {
    "name": "ipython",
    "version": 3
   },
   "file_extension": ".py",
   "mimetype": "text/x-python",
   "name": "python",
   "nbconvert_exporter": "python",
   "pygments_lexer": "ipython3",
   "version": "3.6.7"
  }
 },
 "nbformat": 4,
 "nbformat_minor": 2
}
