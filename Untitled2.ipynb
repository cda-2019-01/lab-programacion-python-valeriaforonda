{
 "cells": [
  {
   "cell_type": "code",
   "execution_count": 147,
   "metadata": {},
   "outputs": [
    {
     "name": "stdout",
     "output_type": "stream",
     "text": [
      "('0', ['C'])\n",
      "('1', ['A', 'B', 'D', 'E'])\n",
      "('2', ['A', 'D', 'E'])\n",
      "('3', ['A', 'B', 'D', 'E'])\n",
      "('4', ['B', 'E'])\n",
      "('5', ['B', 'C', 'D', 'E'])\n",
      "('6', ['A', 'B', 'C', 'E'])\n",
      "('7', ['A', 'C', 'D', 'E'])\n",
      "('8', ['A', 'B', 'E'])\n",
      "('9', ['A', 'B', 'C', 'E'])\n"
     ]
    }
   ],
   "source": [
    "x = open('data.csv','r').readlines() #Leo el archivo\n",
    "x = [z.replace('\\n', '') for z in x] #Reemplazo retornos de carro por vacíos\n",
    "x = [z.split('\\t') for z in x] #Se separan donde esté una separación\n",
    "a = list([(z[4]) for z in x[0:]])\n",
    "h = \",\".join(a)\n",
    "j = h.split(',')\n",
    "k = [(z[1]) for z in x[0:]]\n",
    "e = list([(z[0]) for z in x[0:]])\n",
    "f = set(k)\n",
    "d = list(f)\n",
    "d.sort()\n",
    "lenb = len(e)\n",
    "lend = len(d)\n",
    "import numpy as np\n",
    "for i in range(0,lend):\n",
    "    y=[]\n",
    "    for j in range(0,lenb):\n",
    "        if k[j] == d[i]:\n",
    "            y.append(e[j])\n",
    "            w=list(set(y))\n",
    "            w.sort()\n",
    "    u = d[i],w\n",
    "    print(u)"
   ]
  },
  {
   "cell_type": "code",
   "execution_count": 141,
   "metadata": {},
   "outputs": [
    {
     "data": {
      "text/plain": [
       "list"
      ]
     },
     "execution_count": 141,
     "metadata": {},
     "output_type": "execute_result"
    }
   ],
   "source": [
    "type(y)"
   ]
  },
  {
   "cell_type": "code",
   "execution_count": 63,
   "metadata": {},
   "outputs": [
    {
     "data": {
      "text/plain": [
       "'E'"
      ]
     },
     "execution_count": 63,
     "metadata": {},
     "output_type": "execute_result"
    }
   ],
   "source": [
    "e[0]"
   ]
  },
  {
   "cell_type": "code",
   "execution_count": null,
   "metadata": {},
   "outputs": [],
   "source": []
  }
 ],
 "metadata": {
  "kernelspec": {
   "display_name": "Python 3",
   "language": "python",
   "name": "python3"
  },
  "language_info": {
   "codemirror_mode": {
    "name": "ipython",
    "version": 3
   },
   "file_extension": ".py",
   "mimetype": "text/x-python",
   "name": "python",
   "nbconvert_exporter": "python",
   "pygments_lexer": "ipython3",
   "version": "3.6.7"
  }
 },
 "nbformat": 4,
 "nbformat_minor": 2
}
