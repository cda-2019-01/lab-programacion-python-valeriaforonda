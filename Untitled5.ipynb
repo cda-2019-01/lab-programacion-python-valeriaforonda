{
 "cells": [
  {
   "cell_type": "code",
   "execution_count": 180,
   "metadata": {},
   "outputs": [
    {
     "name": "stdout",
     "output_type": "stream",
     "text": [
      "a,114\n",
      "b,40\n",
      "c,91\n",
      "d,65\n",
      "e,79\n",
      "f,110\n",
      "g,35\n"
     ]
    }
   ],
   "source": [
    "x = open('data.csv','r').readlines() #Leo el archivo\n",
    "x = [z.replace('\\n', '') for z in x] #Reemplazo retornos de carro por vacíos\n",
    "x = [z.split('\\t') for z in x] #Se separan donde esté una separación\n",
    "a = list([(z[3]) for z in x[0:]])\n",
    "h = [int(z[1]) for z in x[0:]]\n",
    "e = list(h)\n",
    "b = [z.split(',') for z in a]\n",
    "c = list([(z[0]) for z in b[0:]])\n",
    "d = list(set(c))\n",
    "d.sort()\n",
    "lenb = len(b)\n",
    "lend = len(d)\n",
    "for m in range (0,lend):\n",
    "    sum = 0\n",
    "    for i in range(0,lenb):\n",
    "        v = len(b[i])\n",
    "        u = b[i]\n",
    "        for j in range (0, v):\n",
    "            if u[j] == d[m]:\n",
    "                sum = sum + e[i]\n",
    "    print(d[m], end=\"\")\n",
    "    print(',', end=\"\")\n",
    "    print(sum)"
   ]
  },
  {
   "cell_type": "code",
   "execution_count": 179,
   "metadata": {},
   "outputs": [
    {
     "name": "stdout",
     "output_type": "stream",
     "text": [
      "a,5\n"
     ]
    }
   ],
   "source": [
    "x = open('data.csv','r').readlines() #Leo el archivo\n",
    "x = [z.replace('\\n', '') for z in x] #Reemplazo retornos de carro por vacíos\n",
    "x = [z.split('\\t') for z in x] #Se separan donde esté una separación\n",
    "a = list([(z[3]) for z in x[0:]])\n",
    "h = [int(z[1]) for z in x[0:]]\n",
    "e = list(h)\n",
    "b = [z.split(',') for z in a]\n",
    "c = list([(z[0]) for z in b[0:]])\n",
    "d = list(set(c))\n",
    "d.sort()\n",
    "lenb = len(b)\n",
    "lend = len(d)\n",
    "for i in range(0,40):\n",
    "    sum = 0\n",
    "    v = len(b[2])\n",
    "    u = b[2]\n",
    "    for j in range (0, v):\n",
    "        if u[j] == d[0]:\n",
    "        sum = sum + e[i]\n",
    "    print(d[0], end=\"\")\n",
    "    print(',', end=\"\")\n",
    "    print(sum)\n"
   ]
  },
  {
   "cell_type": "code",
   "execution_count": null,
   "metadata": {},
   "outputs": [],
   "source": []
  },
  {
   "cell_type": "code",
   "execution_count": null,
   "metadata": {},
   "outputs": [],
   "source": []
  },
  {
   "cell_type": "code",
   "execution_count": null,
   "metadata": {},
   "outputs": [],
   "source": []
  },
  {
   "cell_type": "code",
   "execution_count": null,
   "metadata": {},
   "outputs": [],
   "source": []
  },
  {
   "cell_type": "code",
   "execution_count": null,
   "metadata": {},
   "outputs": [],
   "source": []
  }
 ],
 "metadata": {
  "kernelspec": {
   "display_name": "Python 3",
   "language": "python",
   "name": "python3"
  },
  "language_info": {
   "codemirror_mode": {
    "name": "ipython",
    "version": 3
   },
   "file_extension": ".py",
   "mimetype": "text/x-python",
   "name": "python",
   "nbconvert_exporter": "python",
   "pygments_lexer": "ipython3",
   "version": "3.6.7"
  }
 },
 "nbformat": 4,
 "nbformat_minor": 2
}
