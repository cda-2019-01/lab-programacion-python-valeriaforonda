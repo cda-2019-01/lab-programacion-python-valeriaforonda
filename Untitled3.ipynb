{
 "cells": [
  {
   "cell_type": "code",
   "execution_count": 1,
   "metadata": {},
   "outputs": [
    {
     "data": {
      "text/plain": [
       "['b,g,f',\n",
       " 'a,f,c',\n",
       " 'f,e,a,c',\n",
       " 'a,b',\n",
       " 'f,g,d,a',\n",
       " 'c,d',\n",
       " 'g,d,a',\n",
       " 'b,a',\n",
       " 'd,e,a,f',\n",
       " 'd,b,g,f',\n",
       " 'd,c,f,b',\n",
       " 'd,e,a,c',\n",
       " 'g,e,f,b',\n",
       " 'c,f',\n",
       " 'd,b',\n",
       " 'f,e',\n",
       " 'e,b,f',\n",
       " 'g,a',\n",
       " 'e,c,f,a',\n",
       " 'e,a',\n",
       " 'e,f',\n",
       " 'c,b,g',\n",
       " 'c,f,a',\n",
       " 'f,a,d',\n",
       " 'c,d',\n",
       " 'e,d,c',\n",
       " 'a,e,f',\n",
       " 'c,a,g',\n",
       " 'f,e',\n",
       " 'f,c,a,g',\n",
       " 'b,f',\n",
       " 'b,f',\n",
       " 'a,c',\n",
       " 'b,f,c',\n",
       " 'f,a,e',\n",
       " 'a,f',\n",
       " 'c,a',\n",
       " 'c,a,e,f',\n",
       " 'e,d',\n",
       " 'f,a,d']"
      ]
     },
     "execution_count": 1,
     "metadata": {},
     "output_type": "execute_result"
    }
   ],
   "source": [
    "x = open('data.csv','r').readlines() #Leo el archivo\n",
    "x = [z.replace('\\n', '') for z in x] #Reemplazo retornos de carro por vacíos\n",
    "x = [z.split('\\t') for z in x] #Se separan donde esté una separación\n",
    "b = [(z[3]) for z in x[0:]]\n",
    "e=[int(z[1]) for z in x[0:]]\n",
    "b\n",
    "# c = set(b)\n",
    "# d = list(c)\n",
    "# d.sort()\n",
    "# lenb = len(b)\n",
    "# lend = len(d)\n",
    "# for i in range(0,lend):\n",
    "#     n=0\n",
    "#     for j in range(0,lenb):\n",
    "#         if b[j] == d[i]:\n",
    "#             n = n + e[j]\n",
    "#     print(d[i], end=\"\")\n",
    "#     print(',', end=\"\")\n",
    "#     print(n)"
   ]
  },
  {
   "cell_type": "code",
   "execution_count": null,
   "metadata": {},
   "outputs": [],
   "source": []
  }
 ],
 "metadata": {
  "kernelspec": {
   "display_name": "Python 3",
   "language": "python",
   "name": "python3"
  },
  "language_info": {
   "codemirror_mode": {
    "name": "ipython",
    "version": 3
   },
   "file_extension": ".py",
   "mimetype": "text/x-python",
   "name": "python",
   "nbconvert_exporter": "python",
   "pygments_lexer": "ipython3",
   "version": "3.6.7"
  }
 },
 "nbformat": 4,
 "nbformat_minor": 2
}
