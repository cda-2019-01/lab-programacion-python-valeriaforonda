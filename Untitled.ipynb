{
 "cells": [
  {
   "cell_type": "code",
   "execution_count": 1,
   "metadata": {},
   "outputs": [
    {
     "name": "stdout",
     "output_type": "stream",
     "text": [
      "A,8\n",
      "B,7\n",
      "C,5\n",
      "D,6\n",
      "E,14\n"
     ]
    }
   ],
   "source": [
    "x = open('data.csv','r').readlines() #Leo el archivo\n",
    "x = [z.replace('\\n', '') for z in x] #Reemplazo retornos de carro por vacíos\n",
    "x = [z.split('\\t') for z in x] #Se separan donde esté una separación\n",
    "b = [(z[0]) for z in x[0:]]\n",
    "c = set(b)\n",
    "d = list(c)\n",
    "d.sort()\n",
    "lenb = len(b)\n",
    "lend = len(d)\n",
    "for i in range(0,lend):\n",
    "    n=0\n",
    "    for j in range(0,lenb):\n",
    "        if b[j] == d[i]:\n",
    "            n = n +1\n",
    "    print(d[i], end=\"\")\n",
    "    print(',', end=\"\")\n",
    "    print(n)"
   ]
  },
  {
   "cell_type": "code",
   "execution_count": null,
   "metadata": {},
   "outputs": [],
   "source": []
  }
 ],
 "metadata": {
  "kernelspec": {
   "display_name": "Python 3",
   "language": "python",
   "name": "python3"
  },
  "language_info": {
   "codemirror_mode": {
    "name": "ipython",
    "version": 3
   },
   "file_extension": ".py",
   "mimetype": "text/x-python",
   "name": "python",
   "nbconvert_exporter": "python",
   "pygments_lexer": "ipython3",
   "version": "3.6.7"
  }
 },
 "nbformat": 4,
 "nbformat_minor": 2
}
